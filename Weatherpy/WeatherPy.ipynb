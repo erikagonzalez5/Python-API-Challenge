{
 "cells": [
  {
   "cell_type": "markdown",
   "metadata": {},
   "source": [
    "# WeatherPy\n",
    "----\n",
    "\n",
    "#### Note\n",
    "* Instructions have been included for each segment. You do not have to follow them exactly, but they are included to help you think through the steps."
   ]
  },
  {
   "cell_type": "markdown",
   "metadata": {},
   "source": [
    "Observable Trends\n",
    "\n",
    "•\tThe data had an output of 590 cities and demonstrated that as the latitude neared the equator at 0 degrees the temperature increased. The southern hemisphere scatter plot showed an R-value of 0.68 which is near 0.7 showing this is a strong correlation as well as the northern hemisphere showering an R-Value of 0.9 nearing 1.\n",
    "\n",
    "•\tWhen looking at the scatter plot of humidity between the southern and northern hemisphere, the only common area they have is that both plots demonstrate that there is no correlation between latitude and humidity. The R-Values were well below 0.7 showing a weak correlation.\n",
    "\n",
    "•\tAnother indicator of weak correlation was between city latitude and wind speed. In both the northern and southern hemisphere scatter plots the R-Squared value showed a weak correlation that was well below 0.7.\n"
   ]
  },
  {
   "cell_type": "code",
   "execution_count": 1,
   "metadata": {
    "scrolled": true
   },
   "outputs": [],
   "source": [
    "# Dependencies and Setup\n",
    "import matplotlib.pyplot as plt\n",
    "import pandas as pd\n",
    "import numpy as np\n",
    "import requests\n",
    "import time\n",
    "from scipy.stats import linregress\n",
    "import scipy.stats as st\n",
    "from pprint import pprint\n",
    "\n",
    "# Import API key\n",
    "from api_keys import weather_api_key\n",
    "\n",
    "# Incorporated citipy to determine city based on latitude and longitude\n",
    "from citipy import citipy\n",
    "\n",
    "# Output File (CSV)\n",
    "output_data_file = \"../output_data/cities.csv\"\n",
    "\n",
    "# cities = pd.read_csv(output_data_file)\n",
    "# cities.head()\n",
    "\n",
    "# Range of latitudes and longitudes\n",
    "lat_range = (-90, 90)\n",
    "lng_range = (-180, 180)"
   ]
  },
  {
   "cell_type": "markdown",
   "metadata": {},
   "source": [
    "## Generate Cities List"
   ]
  },
  {
   "cell_type": "code",
   "execution_count": 2,
   "metadata": {},
   "outputs": [
    {
     "data": {
      "text/plain": [
       "590"
      ]
     },
     "execution_count": 2,
     "metadata": {},
     "output_type": "execute_result"
    }
   ],
   "source": [
    "# List for holding lat_lngs and cities\n",
    "lat_lngs = []\n",
    "cities = []\n",
    "\n",
    "# Create a set of random lat and lng combinations\n",
    "lats = np.random.uniform(lat_range[0], lat_range[1], size=1500)\n",
    "lngs = np.random.uniform(lng_range[0], lng_range[1], size=1500)\n",
    "lat_lngs = zip(lats, lngs)\n",
    "\n",
    "# Identify nearest city for each lat, lng combination\n",
    "for lat_lng in lat_lngs:\n",
    "    city = citipy.nearest_city(lat_lng[0], lat_lng[1]).city_name\n",
    "    \n",
    "    # If the city is unique, then add it to a our cities list\n",
    "    if city not in cities:\n",
    "        cities.append(city)\n",
    "\n",
    "# Print the city count to confirm sufficient count\n",
    "len(cities)"
   ]
  },
  {
   "cell_type": "markdown",
   "metadata": {},
   "source": [
    "### Perform API Calls\n",
    "* Perform a weather check on each city using a series of successive API calls.\n",
    "* Include a print log of each city as it'sbeing processed (with the city number and city name).\n"
   ]
  },
  {
   "cell_type": "code",
   "execution_count": 3,
   "metadata": {},
   "outputs": [
    {
     "name": "stdout",
     "output_type": "stream",
     "text": [
      "{'base': 'stations',\n",
      " 'clouds': {'all': 35},\n",
      " 'cod': 200,\n",
      " 'coord': {'lat': -34.4187, 'lon': 19.2345},\n",
      " 'dt': 1636520145,\n",
      " 'id': 3366880,\n",
      " 'main': {'feels_like': 61.18,\n",
      "          'grnd_level': 1016,\n",
      "          'humidity': 72,\n",
      "          'pressure': 1020,\n",
      "          'sea_level': 1020,\n",
      "          'temp': 61.9,\n",
      "          'temp_max': 61.9,\n",
      "          'temp_min': 61.9},\n",
      " 'name': 'Hermanus',\n",
      " 'sys': {'country': 'ZA',\n",
      "         'id': 2003650,\n",
      "         'sunrise': 1636515228,\n",
      "         'sunset': 1636564817,\n",
      "         'type': 2},\n",
      " 'timezone': 7200,\n",
      " 'visibility': 10000,\n",
      " 'weather': [{'description': 'scattered clouds',\n",
      "              'icon': '03d',\n",
      "              'id': 802,\n",
      "              'main': 'Clouds'}],\n",
      " 'wind': {'deg': 322, 'gust': 3.15, 'speed': 2.77}}\n"
     ]
    }
   ],
   "source": [
    "#used this to check what is in json for next activity\n",
    "\n",
    "url = \"http://api.openweathermap.org/data/2.5/weather?\"\n",
    "units = \"imperial\"\n",
    "query_url = f\"{url}appid={weather_api_key}&units={units}&q=\"\n",
    "\n",
    "\n",
    "weather_response = requests.get(query_url + city)\n",
    "weather_json = weather_response.json()\n",
    "pprint(weather_json)"
   ]
  },
  {
   "cell_type": "code",
   "execution_count": 4,
   "metadata": {},
   "outputs": [
    {
     "name": "stdout",
     "output_type": "stream",
     "text": [
      "<Response [200]>\n"
     ]
    }
   ],
   "source": [
    "#make sure there is a response\n",
    "print(requests.get(query_url+city))"
   ]
  },
  {
   "cell_type": "code",
   "execution_count": 5,
   "metadata": {
    "scrolled": true
   },
   "outputs": [
    {
     "name": "stdout",
     "output_type": "stream",
     "text": [
      "Beginning Data Retrieval\n",
      "-------------------------\n",
      "Processing Record 1 | Albany\n",
      "Processing Record 2 | Ilebo\n",
      "Processing Record 3 | Nanortalik\n",
      "Processing Record 4 | Söderhamn\n",
      "Processing Record 5 | Kailua\n",
      "Processing Record 6 | Tanout\n",
      "Processing Record 7 | Lebu\n",
      "Processing Record 8 | Karratha\n",
      "Processing Record 9 | Leningradskiy\n",
      "City not found. Skipping...\n",
      "Processing Record 10 | Ushuaia\n",
      "Processing Record 11 | Rikitea\n",
      "Processing Record 12 | Touros\n",
      "Processing Record 13 | Yellowknife\n",
      "City not found. Skipping...\n",
      "Processing Record 14 | Puerto Ayora\n",
      "Processing Record 15 | Chapais\n",
      "City not found. Skipping...\n",
      "Processing Record 16 | Jacareacanga\n",
      "Processing Record 17 | Bengkulu\n",
      "Processing Record 18 | Port Alfred\n",
      "Processing Record 19 | Hong Kong\n",
      "Processing Record 20 | Norman Wells\n",
      "Processing Record 21 | Altamira\n",
      "City not found. Skipping...\n",
      "Processing Record 22 | Santiago\n",
      "Processing Record 23 | Vaini\n",
      "Processing Record 24 | Mackay\n",
      "Processing Record 25 | Nikolskoye\n",
      "Processing Record 26 | Saint Paul Harbor\n",
      "Processing Record 27 | Katsuura\n",
      "City not found. Skipping...\n",
      "Processing Record 28 | Busselton\n",
      "Processing Record 29 | Ostrovnoy\n",
      "Processing Record 30 | Basco\n",
      "Processing Record 31 | Harper\n",
      "Processing Record 32 | Whitehorse\n",
      "City not found. Skipping...\n",
      "Processing Record 33 | Hasaki\n",
      "Processing Record 34 | Ancud\n",
      "Processing Record 35 | Thompson\n",
      "Processing Record 36 | Mataura\n",
      "Processing Record 37 | Punta Arenas\n",
      "Processing Record 38 | Atuona\n",
      "Processing Record 39 | Hilo\n",
      "Processing Record 40 | Kaitangata\n",
      "Processing Record 41 | Worthington\n",
      "Processing Record 42 | Qaanaaq\n",
      "Processing Record 43 | Hithadhoo\n",
      "Processing Record 44 | San Miguel\n",
      "Processing Record 45 | East London\n",
      "Processing Record 46 | Castro\n",
      "Processing Record 47 | Port Elizabeth\n",
      "Processing Record 48 | Jamestown\n",
      "City not found. Skipping...\n",
      "Processing Record 49 | Bonfim\n",
      "Processing Record 50 | Ribeira Grande\n",
      "Processing Record 51 | Kapaa\n",
      "Processing Record 52 | Bluff\n",
      "Processing Record 53 | Iwanai\n",
      "Processing Record 54 | Carnarvon\n",
      "City not found. Skipping...\n",
      "Processing Record 55 | Dunedin\n",
      "Processing Record 56 | Tasiilaq\n",
      "Processing Record 57 | Margate\n",
      "Processing Record 58 | Mount Isa\n",
      "Processing Record 59 | Saldanha\n",
      "Processing Record 60 | Bethel\n",
      "Processing Record 61 | Río Gallegos\n",
      "Processing Record 62 | Barrow\n",
      "Processing Record 63 | Butaritari\n",
      "Processing Record 64 | Sinnamary\n",
      "Processing Record 65 | Laas\n",
      "Processing Record 66 | Ushirombo\n",
      "City not found. Skipping...\n",
      "Processing Record 67 | Monte Alegre de Minas\n",
      "Processing Record 68 | José Bonifácio\n",
      "Processing Record 69 | Tarakan\n",
      "Processing Record 70 | Abashiri\n",
      "City not found. Skipping...\n",
      "Processing Record 71 | Avarua\n",
      "Processing Record 72 | Ponta do Sol\n",
      "City not found. Skipping...\n",
      "Processing Record 73 | Naze\n",
      "Processing Record 74 | Aripuanã\n",
      "Processing Record 75 | Yar-Sale\n",
      "Processing Record 76 | Beringovskiy\n",
      "Processing Record 77 | Mossamedes\n",
      "City not found. Skipping...\n",
      "Processing Record 78 | Khatanga\n",
      "Processing Record 79 | Lhokseumawe\n",
      "Processing Record 80 | Praia da Vitória\n",
      "Processing Record 81 | Hermanus\n",
      "Processing Record 82 | Mpulungu\n",
      "City not found. Skipping...\n",
      "Processing Record 83 | Berlevåg\n",
      "Processing Record 84 | Călăraşi\n",
      "Processing Record 85 | Northam\n",
      "City not found. Skipping...\n",
      "Processing Record 86 | Maceió\n",
      "Processing Record 87 | Cape Town\n",
      "Processing Record 88 | Rawson\n",
      "Processing Record 89 | Alcalá de Henares\n",
      "Processing Record 90 | Chokurdakh\n",
      "Processing Record 91 | Faanui\n",
      "Processing Record 92 | Dikson\n",
      "Processing Record 93 | Tuktoyaktuk\n",
      "Processing Record 94 | Mersing\n",
      "Processing Record 95 | Gigmoto\n",
      "Processing Record 96 | Westport\n",
      "Processing Record 97 | Salalah\n",
      "City not found. Skipping...\n",
      "Processing Record 98 | Loreto\n",
      "Processing Record 99 | Quatre Cocos\n",
      "Processing Record 100 | Taunggyi\n",
      "Processing Record 101 | Longyearbyen\n",
      "Processing Record 102 | Saskylakh\n",
      "Processing Record 103 | Sørland\n",
      "City not found. Skipping...\n",
      "Processing Record 104 | Zarya\n",
      "Processing Record 105 | Abbeville\n",
      "City not found. Skipping...\n",
      "Processing Record 106 | Āreka\n",
      "Processing Record 107 | Māngrol\n",
      "Processing Record 108 | Boromo\n",
      "Processing Record 109 | Souillac\n",
      "Processing Record 110 | Mount Gambier\n",
      "Processing Record 111 | Cidreira\n",
      "Processing Record 112 | Chul'man\n",
      "Processing Record 113 | Nāwa\n",
      "Processing Record 114 | Témiscaming\n",
      "Processing Record 115 | Struthers\n",
      "Processing Record 116 | Hobart\n",
      "City not found. Skipping...\n",
      "Processing Record 117 | Mareeba\n",
      "Processing Record 118 | New Norfolk\n",
      "Processing Record 119 | Amahai\n",
      "Processing Record 120 | George Town\n",
      "Processing Record 121 | Esperance\n",
      "Processing Record 122 | Jining\n",
      "Processing Record 123 | Rincon\n",
      "Processing Record 124 | Airai\n",
      "Processing Record 125 | Macia\n",
      "Processing Record 126 | Handlová\n",
      "Processing Record 127 | Chokwé\n",
      "Processing Record 128 | Lüderitz\n",
      "Processing Record 129 | San Vicente\n",
      "City not found. Skipping...\n",
      "Processing Record 130 | Porto-Novo\n",
      "Processing Record 131 | Meulaboh\n",
      "Processing Record 132 | KwaDukuza\n",
      "Processing Record 133 | Veselynove\n",
      "Processing Record 134 | Severo-Kuril'sk\n",
      "Processing Record 135 | Oktyabr'skoye\n",
      "Processing Record 136 | Cabo San Lucas\n",
      "Processing Record 137 | Tiruvalla\n",
      "Processing Record 138 | Torbay\n",
      "Processing Record 139 | Luan\n",
      "Processing Record 140 | Santa Fe\n",
      "Processing Record 141 | Thunder Bay\n",
      "City not found. Skipping...\n",
      "Processing Record 142 | Walvis Bay\n",
      "Processing Record 143 | Kutno\n",
      "Processing Record 144 | Mānikganj\n",
      "Processing Record 145 | Tiksi\n",
      "Processing Record 146 | Nyurba\n",
      "Processing Record 147 | Guerrero Negro\n",
      "Processing Record 148 | Raduzhny\n",
      "Processing Record 149 | Bredasdorp\n",
      "Processing Record 150 | Iqaluit\n",
      "Processing Record 151 | Cockburn Town\n",
      "Processing Record 152 | Verkhniy Baskunchak\n",
      "Processing Record 153 | Yulara\n",
      "Processing Record 154 | San Miguel de Tucumán\n",
      "City not found. Skipping...\n",
      "Processing Record 155 | San Juan\n",
      "Processing Record 156 | Naryan-Mar\n",
      "City not found. Skipping...\n",
      "Processing Record 157 | Magadan\n",
      "Processing Record 158 | Arraial do Cabo\n",
      "Processing Record 159 | Charters Towers\n",
      "Processing Record 160 | Dingle\n",
      "Processing Record 161 | Antofagasta\n",
      "Processing Record 162 | San Quintín\n",
      "Processing Record 163 | Carmarthen\n",
      "Processing Record 164 | Grindavik\n",
      "City not found. Skipping...\n",
      "Processing Record 165 | Galveston\n",
      "Processing Record 166 | Bathsheba\n",
      "City not found. Skipping...\n",
      "Processing Record 167 | Krasnosel'kup\n",
      "Processing Record 168 | Saint-François\n",
      "City not found. Skipping...\n",
      "Processing Record 169 | Saint George\n",
      "City not found. Skipping...\n",
      "Processing Record 170 | Saint Anthony\n",
      "Processing Record 171 | Tuatapere\n",
      "City not found. Skipping...\n",
      "Processing Record 172 | Beloha\n",
      "Processing Record 173 | Celestún\n",
      "Processing Record 174 | Petropavlovsk-Kamchatskiy\n",
      "Processing Record 175 | Alghero\n",
      "Processing Record 176 | Samarai\n",
      "Processing Record 177 | Fortuna\n",
      "City not found. Skipping...\n",
      "Processing Record 178 | Coahuayana Viejo\n",
      "Processing Record 179 | Ariquemes\n",
      "Processing Record 180 | Pevek\n",
      "Processing Record 181 | Balkanabat\n",
      "Processing Record 182 | Ponta Delgada\n",
      "Processing Record 183 | Bahir Dar\n",
      "Processing Record 184 | High Level\n",
      "Processing Record 185 | Omboué\n",
      "Processing Record 186 | Sosnovo\n",
      "Processing Record 187 | Cherskiy\n",
      "Processing Record 188 | Watsa\n",
      "Processing Record 189 | Kuytun\n",
      "Processing Record 190 | Waipawa\n",
      "Processing Record 191 | Eshowe\n",
      "Processing Record 192 | Sørkjosen\n",
      "Processing Record 193 | Kruisfontein\n",
      "Processing Record 194 | Teahupoo\n",
      "Processing Record 195 | Vestmannaeyjar\n",
      "Processing Record 196 | Biak\n",
      "Processing Record 197 | Porto Belo\n",
      "Processing Record 198 | Ndola\n",
      "Processing Record 199 | Nurota\n",
      "Processing Record 200 | São Filipe\n",
      "Processing Record 201 | Lagoa\n",
      "Processing Record 202 | Mayo\n",
      "Processing Record 203 | Makkah al Mukarramah\n",
      "Processing Record 204 | Juneau\n",
      "Processing Record 205 | Angoche\n",
      "Processing Record 206 | Chifeng\n",
      "Processing Record 207 | Dongsheng\n",
      "Processing Record 208 | São Gabriel da Cachoeira\n",
      "Processing Record 209 | Port-Gentil\n",
      "Processing Record 210 | Scarborough\n",
      "Processing Record 211 | Santa Rosa\n",
      "Processing Record 212 | Poum\n",
      "Processing Record 213 | Ajdabiya\n",
      "Processing Record 214 | Rochegda\n",
      "Processing Record 215 | Kot Samaba\n",
      "Processing Record 216 | Santa Cruz Cabrália\n",
      "Processing Record 217 | Pangnirtung\n",
      "Processing Record 218 | Belitsa\n",
      "Processing Record 219 | Djibouti\n",
      "Processing Record 220 | Talnakh\n",
      "Processing Record 221 | Merzifon\n"
     ]
    },
    {
     "name": "stdout",
     "output_type": "stream",
     "text": [
      "Processing Record 222 | Taltal\n",
      "Processing Record 223 | Mar del Plata\n",
      "Processing Record 224 | Petrolina de Goiás\n",
      "City not found. Skipping...\n",
      "Processing Record 225 | Nador\n",
      "Processing Record 226 | Bell Ville\n",
      "Processing Record 227 | Kalemie\n",
      "Processing Record 228 | Strathpeffer\n",
      "Processing Record 229 | Matara\n",
      "Processing Record 230 | Rogoźno\n",
      "Processing Record 231 | Manakara\n",
      "Processing Record 232 | Lorengau\n",
      "Processing Record 233 | Tazovsky\n",
      "Processing Record 234 | Erzin\n",
      "Processing Record 235 | Yārāda\n",
      "Processing Record 236 | Port Hardy\n",
      "Processing Record 237 | Bambous Virieux\n",
      "City not found. Skipping...\n",
      "Processing Record 238 | Provideniya\n",
      "Processing Record 239 | Bol\n",
      "Processing Record 240 | Cabedelo\n",
      "City not found. Skipping...\n",
      "Processing Record 241 | Seoul\n",
      "Processing Record 242 | Lavrentiya\n",
      "Processing Record 243 | Kolobovo\n",
      "Processing Record 244 | Tiznit Province\n",
      "Processing Record 245 | Payo\n",
      "Processing Record 246 | Magnolia\n",
      "Processing Record 247 | North Bend\n",
      "Processing Record 248 | Kuching\n",
      "Processing Record 249 | Los Algarrobos\n",
      "Processing Record 250 | Bluefield\n",
      "Processing Record 251 | Gouré\n",
      "Processing Record 252 | Managua\n",
      "Processing Record 253 | Sainte-Marie\n",
      "Processing Record 254 | Aklavik\n",
      "Processing Record 255 | Olafsvik\n",
      "Processing Record 256 | Pacific Grove\n",
      "Processing Record 257 | Kangaatsiaq\n",
      "Processing Record 258 | Ladário\n",
      "Processing Record 259 | Khorixas\n",
      "Processing Record 260 | Dandong\n",
      "Processing Record 261 | Alta Floresta\n",
      "Processing Record 262 | Narsaq\n",
      "City not found. Skipping...\n",
      "Processing Record 263 | Lima\n",
      "Processing Record 264 | Bariloche\n",
      "Processing Record 265 | Omsukchan\n",
      "Processing Record 266 | Bukama\n",
      "Processing Record 267 | Kahului\n",
      "Processing Record 268 | Bentiu\n",
      "Processing Record 269 | Clyde River\n",
      "Processing Record 270 | Manlleu\n",
      "Processing Record 271 | Daoukro\n",
      "Processing Record 272 | Moree\n",
      "Processing Record 273 | Pitimbu\n",
      "Processing Record 274 | Arrecife\n",
      "Processing Record 275 | Ejido\n",
      "Processing Record 276 | Bam\n",
      "Processing Record 277 | Acapulco de Juárez\n",
      "City not found. Skipping...\n",
      "Processing Record 278 | Abu Samrah\n",
      "Processing Record 279 | Khovd\n",
      "Processing Record 280 | Kincardine\n",
      "Processing Record 281 | Hambantota\n",
      "Processing Record 282 | Valparaíso\n",
      "Processing Record 283 | Yenagoa\n",
      "Processing Record 284 | Formiga\n",
      "Processing Record 285 | Sandnessjøen\n",
      "Processing Record 286 | Bayir\n",
      "Processing Record 287 | Plavsk\n",
      "Processing Record 288 | Verāval\n",
      "Processing Record 289 | Buin\n",
      "Processing Record 290 | Andros Town\n",
      "Processing Record 291 | Puerto Escondido\n",
      "Processing Record 292 | Mosetse\n",
      "Processing Record 293 | Broken Hill\n",
      "Processing Record 294 | Pinawa\n",
      "Processing Record 295 | Waverly\n",
      "Processing Record 296 | Verkhnyaya Khava\n",
      "Processing Record 297 | Necochea\n",
      "City not found. Skipping...\n",
      "Processing Record 298 | Mezen'\n",
      "Processing Record 299 | Timmins\n",
      "City not found. Skipping...\n",
      "Processing Record 300 | Iskateley\n",
      "Processing Record 301 | Greater Sudbury\n",
      "Processing Record 302 | Tver'\n",
      "Processing Record 303 | Atar\n",
      "Processing Record 304 | Mahébourg\n",
      "Processing Record 305 | Caravelas\n",
      "Processing Record 306 | Praia\n",
      "Processing Record 307 | Dengzhou\n",
      "Processing Record 308 | Newcastle\n",
      "Processing Record 309 | Pampas\n",
      "Processing Record 310 | Trairi\n",
      "Processing Record 311 | Stornoway\n",
      "Processing Record 312 | Sobolevo\n",
      "City not found. Skipping...\n",
      "Processing Record 313 | Kendari\n",
      "Processing Record 314 | Mingora\n",
      "Processing Record 315 | Shurugwi\n",
      "City not found. Skipping...\n",
      "Processing Record 316 | Ciudad Bolivar\n",
      "Processing Record 317 | Coyhaique\n",
      "Processing Record 318 | Pisco\n",
      "Processing Record 319 | San Patricio\n",
      "Processing Record 320 | Saint-Augustin\n",
      "Processing Record 321 | Athabasca\n",
      "Processing Record 322 | Mananjary\n",
      "Processing Record 323 | Kloulklubed\n",
      "Processing Record 324 | Fort Nelson\n",
      "Processing Record 325 | Ca Mau\n",
      "Processing Record 326 | Sioux Lookout\n",
      "Processing Record 327 | Turukhansk\n",
      "Processing Record 328 | Yaan\n",
      "Processing Record 329 | Pokhara\n",
      "Processing Record 330 | Warwick\n",
      "Processing Record 331 | São José de Mipibu\n",
      "Processing Record 332 | Lixouri\n",
      "Processing Record 333 | Klaksvík\n",
      "Processing Record 334 | Verkhnyaya Toyma\n",
      "Processing Record 335 | Katangli\n",
      "Processing Record 336 | Chui\n",
      "Processing Record 337 | Arraias\n",
      "City not found. Skipping...\n",
      "Processing Record 338 | Gizo Government Station\n",
      "Processing Record 339 | Olecko\n",
      "Processing Record 340 | Manokwari\n",
      "Processing Record 341 | Venado Tuerto\n",
      "Processing Record 342 | Ukiah\n",
      "Processing Record 343 | Jijiga\n",
      "Processing Record 344 | Denpasar\n",
      "Processing Record 345 | Nome\n",
      "Processing Record 346 | Goderich\n",
      "Processing Record 347 | Port Blair\n",
      "Processing Record 348 | Kieta\n",
      "City not found. Skipping...\n",
      "Processing Record 349 | Kununurra\n",
      "Processing Record 350 | Santa Maria\n",
      "Processing Record 351 | Oeiras do Pará\n",
      "Processing Record 352 | Fairbanks\n",
      "Processing Record 353 | Rongcheng\n",
      "Processing Record 354 | Tegul'det\n",
      "Processing Record 355 | Portland\n",
      "Processing Record 356 | Spencer\n",
      "Processing Record 357 | Nokaneng\n",
      "Processing Record 358 | Codrington\n",
      "Processing Record 359 | ‘Āhuimanu\n",
      "Processing Record 360 | Puerto Nariño\n",
      "Processing Record 361 | Coquimbo\n",
      "Processing Record 362 | Freeport\n",
      "Processing Record 363 | Faya\n",
      "Processing Record 364 | Ōdachō-ōda\n",
      "Processing Record 365 | Stann Creek Town\n",
      "Processing Record 366 | Fare\n",
      "Processing Record 367 | Padang\n",
      "Processing Record 368 | Mehamn\n",
      "Processing Record 369 | Nioro\n",
      "Processing Record 370 | Jaffna\n",
      "City not found. Skipping...\n",
      "Processing Record 371 | Upernavik\n",
      "Processing Record 372 | Sciacca\n",
      "Processing Record 373 | Camacha\n",
      "City not found. Skipping...\n",
      "Processing Record 374 | Broome\n",
      "Processing Record 375 | Acaraú\n",
      "Processing Record 376 | Alugan\n",
      "Processing Record 377 | Shangrao\n",
      "Processing Record 378 | Frutal\n",
      "City not found. Skipping...\n",
      "Processing Record 379 | Bend\n",
      "Processing Record 380 | Vao\n",
      "Processing Record 381 | Quelimane\n",
      "Processing Record 382 | Mattawa\n",
      "City not found. Skipping...\n",
      "Processing Record 383 | Lydenburg\n",
      "Processing Record 384 | Invermere\n",
      "Processing Record 385 | Port Moresby\n",
      "Processing Record 386 | Abū Zabad\n",
      "Processing Record 387 | Shimoda\n",
      "Processing Record 388 | Midland\n",
      "Processing Record 389 | Kukmor\n",
      "Processing Record 390 | Noshiro\n",
      "Processing Record 391 | Guayaquil\n",
      "Processing Record 392 | Truth or Consequences\n",
      "Processing Record 393 | Boueni\n",
      "Processing Record 394 | Linfen\n",
      "Processing Record 395 | San Fernando\n",
      "Processing Record 396 | Anadyr\n",
      "Processing Record 397 | Rtishchevo\n",
      "Processing Record 398 | Vila Franca do Campo\n",
      "Processing Record 399 | Jimma\n",
      "Processing Record 400 | Solnechnyy\n",
      "Processing Record 401 | Biltine\n",
      "Processing Record 402 | Vieux Fort\n",
      "Processing Record 403 | Bintulu\n",
      "Processing Record 404 | Dhone\n",
      "Processing Record 405 | Ahipara\n",
      "Processing Record 406 | Noumea\n",
      "City not found. Skipping...\n",
      "Processing Record 407 | Valleyview\n",
      "Processing Record 408 | Najrān\n",
      "Processing Record 409 | Maiduguri\n",
      "Processing Record 410 | Port Macquarie\n",
      "Processing Record 411 | Nishihara\n",
      "Processing Record 412 | Egvekinot\n",
      "Processing Record 413 | Buala\n",
      "Processing Record 414 | Palauig\n",
      "Processing Record 415 | Labuhan\n",
      "Processing Record 416 | Zhigansk\n",
      "City not found. Skipping...\n",
      "Processing Record 417 | Comodoro Rivadavia\n",
      "Processing Record 418 | Águas Formosas\n",
      "Processing Record 419 | Misratah\n",
      "Processing Record 420 | Hearst\n",
      "Processing Record 421 | Reconquista\n",
      "Processing Record 422 | Henties Bay\n",
      "Processing Record 423 | Denizli Province\n",
      "Processing Record 424 | Prado\n",
      "City not found. Skipping...\n",
      "Processing Record 425 | Outjo\n",
      "Processing Record 426 | Hobyo\n",
      "Processing Record 427 | Chegdomyn\n",
      "Processing Record 428 | Saint-Philippe\n",
      "Processing Record 429 | Dickinson\n",
      "Processing Record 430 | Norfolk\n",
      "Processing Record 431 | Flinders\n",
      "Processing Record 432 | Yenotayevka\n",
      "Processing Record 433 | Tai’an\n",
      "Processing Record 434 | Fulton\n",
      "Processing Record 435 | Cayenne\n",
      "Processing Record 436 | Sitka\n",
      "Processing Record 437 | Charagua\n",
      "Processing Record 438 | Mitsamiouli\n",
      "Processing Record 439 | Luxor\n",
      "Processing Record 440 | Okha\n",
      "Processing Record 441 | Santa Ana\n",
      "City not found. Skipping...\n",
      "Processing Record 442 | Khilok\n",
      "Processing Record 443 | Rosita\n",
      "Processing Record 444 | Vardø\n",
      "Processing Record 445 | Coos Bay\n",
      "Processing Record 446 | Hofn\n",
      "Processing Record 447 | Kassala\n",
      "Processing Record 448 | El Uvito\n",
      "Processing Record 449 | Makakilo City\n",
      "Processing Record 450 | Panyutyne\n"
     ]
    },
    {
     "name": "stdout",
     "output_type": "stream",
     "text": [
      "Processing Record 451 | Tabou\n",
      "Processing Record 452 | Ryōtsu-minato\n",
      "Processing Record 453 | Akdepe\n",
      "Processing Record 454 | Paamiut\n",
      "Processing Record 455 | Marsh Harbour\n",
      "Processing Record 456 | College\n",
      "Processing Record 457 | Abilene\n",
      "City not found. Skipping...\n",
      "Processing Record 458 | Borkenes\n",
      "Processing Record 459 | Qom\n",
      "Processing Record 460 | Hay River\n",
      "Processing Record 461 | Husavik\n",
      "Processing Record 462 | Archidona\n",
      "City not found. Skipping...\n",
      "Processing Record 463 | Montrose\n",
      "Processing Record 464 | Praia\n",
      "Processing Record 465 | Vila do Maio\n",
      "Processing Record 466 | Bukachacha\n",
      "Processing Record 467 | Bandarbeyla\n",
      "Processing Record 468 | Dulag\n",
      "Processing Record 469 | Auki\n",
      "Processing Record 470 | Lata\n",
      "Processing Record 471 | Jalu\n",
      "Processing Record 472 | Zhezkazgan\n",
      "City not found. Skipping...\n",
      "City not found. Skipping...\n",
      "Processing Record 473 | Asău\n",
      "Processing Record 474 | Gunjur\n",
      "Processing Record 475 | Diapaga\n",
      "Processing Record 476 | Flin Flon\n",
      "Processing Record 477 | Ilulissat\n",
      "Processing Record 478 | Jiangmen\n",
      "Processing Record 479 | Abong Mbang\n",
      "Processing Record 480 | Bilibino\n",
      "Processing Record 481 | Taoudenni\n",
      "Processing Record 482 | Te Anau\n",
      "Processing Record 483 | Teya\n",
      "Processing Record 484 | Kiama\n",
      "Processing Record 485 | Hirara\n",
      "Processing Record 486 | Ruwi\n",
      "Processing Record 487 | Viedma\n",
      "Processing Record 488 | Shenkursk\n",
      "Processing Record 489 | Itarema\n",
      "Processing Record 490 | Shaoxing\n",
      "Processing Record 491 | Myre\n",
      "Processing Record 492 | Nelson Bay\n",
      "Processing Record 493 | Ilek\n",
      "Processing Record 494 | Rio Grande\n",
      "Processing Record 495 | Yangambi\n",
      "Processing Record 496 | Isiro\n",
      "Processing Record 497 | Wajima\n",
      "Processing Record 498 | Ponca City\n",
      "Processing Record 499 | Grand Forks\n",
      "Processing Record 500 | Armenia\n",
      "Processing Record 501 | Petrykiv\n",
      "Processing Record 502 | Qui Nhon\n",
      "Processing Record 503 | Kumul\n",
      "Processing Record 504 | Xiongyue\n",
      "Processing Record 505 | Qingdao\n",
      "Processing Record 506 | Cassilândia\n",
      "Processing Record 507 | Alofi\n",
      "Processing Record 508 | La Santisima Trinidad\n",
      "Processing Record 509 | Barranca\n",
      "Processing Record 510 | Lompoc\n",
      "Processing Record 511 | Les Cayes\n",
      "Processing Record 512 | Ucluelet\n",
      "Processing Record 513 | Alberton\n",
      "Processing Record 514 | Amapá\n",
      "Processing Record 515 | Togur\n",
      "Processing Record 516 | Westerland\n",
      "City not found. Skipping...\n",
      "Processing Record 517 | Kavieng\n",
      "Processing Record 518 | Tongliao\n",
      "Processing Record 519 | Nacogdoches\n",
      "City not found. Skipping...\n",
      "Processing Record 520 | Kryvyi Rih\n",
      "City not found. Skipping...\n",
      "Processing Record 521 | Pueblo\n",
      "Processing Record 522 | Ayan\n",
      "Processing Record 523 | Province of Mantua\n",
      "Processing Record 524 | Koslan\n",
      "Processing Record 525 | Semnan\n",
      "Processing Record 526 | Estación Coahuila\n",
      "Processing Record 527 | Dobele\n",
      "Processing Record 528 | Ambilobe\n",
      "Processing Record 529 | Guangming\n",
      "Processing Record 530 | Muros\n",
      "Processing Record 531 | Comarapa\n",
      "City not found. Skipping...\n",
      "Processing Record 532 | Korla\n",
      "Processing Record 533 | Andros\n",
      "Processing Record 534 | Bad Doberan\n",
      "Processing Record 535 | Luján\n",
      "_________________________\n",
      "Data Retrieval Complete\n",
      "_________________________\n"
     ]
    }
   ],
   "source": [
    "query_url = f\"{url}appid={weather_api_key}&units={units}&q=\"\n",
    "units = \"imperial\"\n",
    "\n",
    "\n",
    "#creating list to hold responses\n",
    "city_names = []\n",
    "lat = []\n",
    "lng = []\n",
    "country = []\n",
    "date = []\n",
    "cloudiness = []\n",
    "max_temp = []\n",
    "wind_speed = []\n",
    "humidity = []\n",
    "\n",
    "#set a counter\n",
    "city_count = 1\n",
    "\n",
    "print(\"Beginning Data Retrieval\")\n",
    "print(\"-\"*25)\n",
    "\n",
    "#created loop to retrieve cities with exceptions if the cities are not found\n",
    "for city in cities:\n",
    "    try:\n",
    "        response = requests.get(query_url + city).json()\n",
    "        city_names.append(response[\"name\"])\n",
    "        country.append(response[\"sys\"][\"country\"])\n",
    "        date.append(response[\"dt\"])\n",
    "        lat.append(response[\"coord\"][\"lat\"])\n",
    "        lng.append(response[\"coord\"][\"lon\"])\n",
    "        max_temp.append(response[\"main\"][\"temp_max\"])\n",
    "        humidity.append(response[\"main\"][\"humidity\"])\n",
    "        cloudiness.append(response[\"clouds\"][\"all\"])\n",
    "        wind_speed.append(response[\"wind\"][\"speed\"])\n",
    "        city_record = response[\"name\"]\n",
    "        print(f\"Processing Record {city_count} | {city_record}\")\n",
    "        \n",
    "        # Increase Processing Record Counter by 1 For Each Loop\n",
    "        city_count = city_count + 1\n",
    "        \n",
    "    except:\n",
    "        print(\"City not found. Skipping...\") \n",
    "    \n",
    "             \n",
    "              \n",
    "print(\"_\"*25)\n",
    "print(\"Data Retrieval Complete\")\n",
    "print(\"_\"*25)\n",
    "\n",
    " "
   ]
  },
  {
   "cell_type": "markdown",
   "metadata": {},
   "source": [
    "### Convert Raw Data to DataFrame\n",
    "* Export the city data into a .csv.\n",
    "* Display the DataFrame"
   ]
  },
  {
   "cell_type": "code",
   "execution_count": 6,
   "metadata": {},
   "outputs": [
    {
     "data": {
      "text/html": [
       "<div>\n",
       "<style scoped>\n",
       "    .dataframe tbody tr th:only-of-type {\n",
       "        vertical-align: middle;\n",
       "    }\n",
       "\n",
       "    .dataframe tbody tr th {\n",
       "        vertical-align: top;\n",
       "    }\n",
       "\n",
       "    .dataframe thead th {\n",
       "        text-align: right;\n",
       "    }\n",
       "</style>\n",
       "<table border=\"1\" class=\"dataframe\">\n",
       "  <thead>\n",
       "    <tr style=\"text-align: right;\">\n",
       "      <th></th>\n",
       "      <th>City</th>\n",
       "      <th>Lat</th>\n",
       "      <th>Lng</th>\n",
       "      <th>Max Temp</th>\n",
       "      <th>Humidity</th>\n",
       "      <th>Cloudiness</th>\n",
       "      <th>Wind Speed</th>\n",
       "      <th>Country</th>\n",
       "      <th>Date</th>\n",
       "    </tr>\n",
       "  </thead>\n",
       "  <tbody>\n",
       "    <tr>\n",
       "      <th>0</th>\n",
       "      <td>Albany</td>\n",
       "      <td>42.6001</td>\n",
       "      <td>-73.9662</td>\n",
       "      <td>52.30</td>\n",
       "      <td>85</td>\n",
       "      <td>94</td>\n",
       "      <td>2.06</td>\n",
       "      <td>US</td>\n",
       "      <td>1636520095</td>\n",
       "    </tr>\n",
       "    <tr>\n",
       "      <th>1</th>\n",
       "      <td>Ilebo</td>\n",
       "      <td>-4.3167</td>\n",
       "      <td>20.5833</td>\n",
       "      <td>71.67</td>\n",
       "      <td>97</td>\n",
       "      <td>98</td>\n",
       "      <td>0.96</td>\n",
       "      <td>CD</td>\n",
       "      <td>1636520162</td>\n",
       "    </tr>\n",
       "    <tr>\n",
       "      <th>2</th>\n",
       "      <td>Nanortalik</td>\n",
       "      <td>60.1432</td>\n",
       "      <td>-45.2371</td>\n",
       "      <td>17.65</td>\n",
       "      <td>69</td>\n",
       "      <td>1</td>\n",
       "      <td>9.82</td>\n",
       "      <td>GL</td>\n",
       "      <td>1636520162</td>\n",
       "    </tr>\n",
       "    <tr>\n",
       "      <th>3</th>\n",
       "      <td>Söderhamn</td>\n",
       "      <td>61.3037</td>\n",
       "      <td>17.0592</td>\n",
       "      <td>41.36</td>\n",
       "      <td>91</td>\n",
       "      <td>23</td>\n",
       "      <td>8.16</td>\n",
       "      <td>SE</td>\n",
       "      <td>1636520163</td>\n",
       "    </tr>\n",
       "    <tr>\n",
       "      <th>4</th>\n",
       "      <td>Kailua</td>\n",
       "      <td>21.4022</td>\n",
       "      <td>-157.7394</td>\n",
       "      <td>78.78</td>\n",
       "      <td>69</td>\n",
       "      <td>90</td>\n",
       "      <td>4.61</td>\n",
       "      <td>US</td>\n",
       "      <td>1636520164</td>\n",
       "    </tr>\n",
       "  </tbody>\n",
       "</table>\n",
       "</div>"
      ],
      "text/plain": [
       "         City      Lat       Lng  Max Temp  Humidity  Cloudiness  Wind Speed  \\\n",
       "0      Albany  42.6001  -73.9662     52.30        85          94        2.06   \n",
       "1       Ilebo  -4.3167   20.5833     71.67        97          98        0.96   \n",
       "2  Nanortalik  60.1432  -45.2371     17.65        69           1        9.82   \n",
       "3   Söderhamn  61.3037   17.0592     41.36        91          23        8.16   \n",
       "4      Kailua  21.4022 -157.7394     78.78        69          90        4.61   \n",
       "\n",
       "  Country        Date  \n",
       "0      US  1636520095  \n",
       "1      CD  1636520162  \n",
       "2      GL  1636520162  \n",
       "3      SE  1636520163  \n",
       "4      US  1636520164  "
      ]
     },
     "execution_count": 6,
     "metadata": {},
     "output_type": "execute_result"
    }
   ],
   "source": [
    "weather_dict = (\n",
    "   {\"City\": city_names,\n",
    "    \"Lat\": lat, \n",
    "    \"Lng\": lng,\n",
    "    \"Max Temp\": max_temp,\n",
    "    \"Humidity\" : humidity,\n",
    "    \"Cloudiness\": cloudiness,\n",
    "    \"Wind Speed\": wind_speed,\n",
    "    \"Country\": country, \n",
    "    \"Date\": date\n",
    "    })\n",
    "\n",
    "weather_df = pd.DataFrame(weather_dict)\n",
    "weather_df.head()"
   ]
  },
  {
   "cell_type": "code",
   "execution_count": 13,
   "metadata": {},
   "outputs": [],
   "source": [
    "#export data\n",
    "filename = \"Cities.csv\"\n",
    "weather_df.to_csv(\"../output/Cities.csv\", index=False, header=True)"
   ]
  },
  {
   "cell_type": "code",
   "execution_count": 7,
   "metadata": {},
   "outputs": [
    {
     "data": {
      "text/html": [
       "<div>\n",
       "<style scoped>\n",
       "    .dataframe tbody tr th:only-of-type {\n",
       "        vertical-align: middle;\n",
       "    }\n",
       "\n",
       "    .dataframe tbody tr th {\n",
       "        vertical-align: top;\n",
       "    }\n",
       "\n",
       "    .dataframe thead th {\n",
       "        text-align: right;\n",
       "    }\n",
       "</style>\n",
       "<table border=\"1\" class=\"dataframe\">\n",
       "  <thead>\n",
       "    <tr style=\"text-align: right;\">\n",
       "      <th></th>\n",
       "      <th>Lat</th>\n",
       "      <th>Lng</th>\n",
       "      <th>Max Temp</th>\n",
       "      <th>Humidity</th>\n",
       "      <th>Cloudiness</th>\n",
       "      <th>Wind Speed</th>\n",
       "      <th>Date</th>\n",
       "    </tr>\n",
       "  </thead>\n",
       "  <tbody>\n",
       "    <tr>\n",
       "      <th>count</th>\n",
       "      <td>535.000000</td>\n",
       "      <td>535.000000</td>\n",
       "      <td>535.000000</td>\n",
       "      <td>535.000000</td>\n",
       "      <td>535.000000</td>\n",
       "      <td>535.000000</td>\n",
       "      <td>5.350000e+02</td>\n",
       "    </tr>\n",
       "    <tr>\n",
       "      <th>mean</th>\n",
       "      <td>19.452101</td>\n",
       "      <td>10.667376</td>\n",
       "      <td>56.689047</td>\n",
       "      <td>73.568224</td>\n",
       "      <td>58.192523</td>\n",
       "      <td>8.173159</td>\n",
       "      <td>1.636520e+09</td>\n",
       "    </tr>\n",
       "    <tr>\n",
       "      <th>std</th>\n",
       "      <td>33.792392</td>\n",
       "      <td>90.417766</td>\n",
       "      <td>22.855123</td>\n",
       "      <td>19.541335</td>\n",
       "      <td>38.035839</td>\n",
       "      <td>6.124478</td>\n",
       "      <td>1.065166e+02</td>\n",
       "    </tr>\n",
       "    <tr>\n",
       "      <th>min</th>\n",
       "      <td>-54.800000</td>\n",
       "      <td>-179.166700</td>\n",
       "      <td>-15.660000</td>\n",
       "      <td>12.000000</td>\n",
       "      <td>0.000000</td>\n",
       "      <td>0.000000</td>\n",
       "      <td>1.636520e+09</td>\n",
       "    </tr>\n",
       "    <tr>\n",
       "      <th>25%</th>\n",
       "      <td>-9.321550</td>\n",
       "      <td>-66.400850</td>\n",
       "      <td>40.700000</td>\n",
       "      <td>65.000000</td>\n",
       "      <td>20.000000</td>\n",
       "      <td>3.440000</td>\n",
       "      <td>1.636520e+09</td>\n",
       "    </tr>\n",
       "    <tr>\n",
       "      <th>50%</th>\n",
       "      <td>22.285500</td>\n",
       "      <td>15.640100</td>\n",
       "      <td>61.230000</td>\n",
       "      <td>78.000000</td>\n",
       "      <td>71.000000</td>\n",
       "      <td>6.510000</td>\n",
       "      <td>1.636520e+09</td>\n",
       "    </tr>\n",
       "    <tr>\n",
       "      <th>75%</th>\n",
       "      <td>47.860500</td>\n",
       "      <td>83.625000</td>\n",
       "      <td>75.740000</td>\n",
       "      <td>88.000000</td>\n",
       "      <td>97.500000</td>\n",
       "      <td>11.430000</td>\n",
       "      <td>1.636520e+09</td>\n",
       "    </tr>\n",
       "    <tr>\n",
       "      <th>max</th>\n",
       "      <td>78.218600</td>\n",
       "      <td>179.316700</td>\n",
       "      <td>100.380000</td>\n",
       "      <td>100.000000</td>\n",
       "      <td>100.000000</td>\n",
       "      <td>40.940000</td>\n",
       "      <td>1.636520e+09</td>\n",
       "    </tr>\n",
       "  </tbody>\n",
       "</table>\n",
       "</div>"
      ],
      "text/plain": [
       "              Lat         Lng    Max Temp    Humidity  Cloudiness  Wind Speed  \\\n",
       "count  535.000000  535.000000  535.000000  535.000000  535.000000  535.000000   \n",
       "mean    19.452101   10.667376   56.689047   73.568224   58.192523    8.173159   \n",
       "std     33.792392   90.417766   22.855123   19.541335   38.035839    6.124478   \n",
       "min    -54.800000 -179.166700  -15.660000   12.000000    0.000000    0.000000   \n",
       "25%     -9.321550  -66.400850   40.700000   65.000000   20.000000    3.440000   \n",
       "50%     22.285500   15.640100   61.230000   78.000000   71.000000    6.510000   \n",
       "75%     47.860500   83.625000   75.740000   88.000000   97.500000   11.430000   \n",
       "max     78.218600  179.316700  100.380000  100.000000  100.000000   40.940000   \n",
       "\n",
       "               Date  \n",
       "count  5.350000e+02  \n",
       "mean   1.636520e+09  \n",
       "std    1.065166e+02  \n",
       "min    1.636520e+09  \n",
       "25%    1.636520e+09  \n",
       "50%    1.636520e+09  \n",
       "75%    1.636520e+09  \n",
       "max    1.636520e+09  "
      ]
     },
     "execution_count": 7,
     "metadata": {},
     "output_type": "execute_result"
    }
   ],
   "source": [
    "weather_df.describe()"
   ]
  },
  {
   "cell_type": "markdown",
   "metadata": {},
   "source": [
    "## Inspect the data and remove the cities where the humidity > 100%.\n",
    "----\n",
    "Skip this step if there are no cities that have humidity > 100%. "
   ]
  },
  {
   "cell_type": "code",
   "execution_count": 8,
   "metadata": {},
   "outputs": [
    {
     "data": {
      "text/plain": [
       "0"
      ]
     },
     "execution_count": 8,
     "metadata": {},
     "output_type": "execute_result"
    }
   ],
   "source": [
    "#check if there are any cities with humidity over 100\n",
    "\n",
    "cities_humidity = weather_df[\"City\"].loc[weather_df[\"Humidity\"] > 100]\n",
    "\n",
    "cities_humidity.count()\n",
    "\n",
    "#confirmed there are no cities with humidity over 100"
   ]
  },
  {
   "cell_type": "code",
   "execution_count": null,
   "metadata": {},
   "outputs": [],
   "source": [
    "#  Get the indices of cities that have humidity over 100%.\n"
   ]
  },
  {
   "cell_type": "code",
   "execution_count": null,
   "metadata": {},
   "outputs": [],
   "source": [
    "# Make a new DataFrame equal to the city data to drop all humidity outliers by index.\n",
    "# Passing \"inplace=False\" will make a copy of the city_data DataFrame, which we call \"clean_city_data\".\n"
   ]
  },
  {
   "cell_type": "code",
   "execution_count": null,
   "metadata": {},
   "outputs": [],
   "source": [
    "\n"
   ]
  },
  {
   "cell_type": "markdown",
   "metadata": {},
   "source": [
    "## Plotting the Data\n",
    "* Use proper labeling of the plots using plot titles (including date of analysis) and axes labels.\n",
    "* Save the plotted figures as .pngs."
   ]
  },
  {
   "cell_type": "markdown",
   "metadata": {},
   "source": [
    "## Latitude vs. Temperature Plot"
   ]
  },
  {
   "cell_type": "code",
   "execution_count": 9,
   "metadata": {
    "scrolled": true
   },
   "outputs": [
    {
     "data": {
      "image/png": "[encoded data removed]",
      "text/plain": [
       "<Figure size 432x288 with 1 Axes>"
      ]
     },
     "metadata": {
      "needs_background": "light"
     },
     "output_type": "display_data"
    }
   ],
   "source": [
    "plt.scatter(weather_df[\"Lat\"],weather_df[\"Max Temp\"],edgecolors=\"black\",facecolors=\"lightblue\")\n",
    "plt.title(\"City Latitude vs. Max Temperature (04/01/20)\")\n",
    "plt.xlabel(\"Latitude\")\n",
    "plt.ylabel(\"Max Temperature (F)\")\n",
    "plt.grid (b=True,which=\"major\",axis=\"both\",linestyle=\"-\",color=\"lightgrey\")\n",
    "plt.savefig(\"Latitude vs. Temperature Plot.png\")\n",
    "plt.show()"
   ]
  },
  {
   "cell_type": "markdown",
   "metadata": {},
   "source": [
    "## Latitude vs. Humidity Plot"
   ]
  },
  {
   "cell_type": "code",
   "execution_count": 10,
   "metadata": {},
   "outputs": [
    {
     "data": {
      "image/png": "[encoded data removed]",
      "text/plain": [
       "<Figure size 432x288 with 1 Axes>"
      ]
     },
     "metadata": {
      "needs_background": "light"
     },
     "output_type": "display_data"
    }
   ],
   "source": [
    "plt.scatter(weather_df[\"Lat\"],weather_df[\"Humidity\"],edgecolors=\"black\",facecolors=\"lightblue\")\n",
    "plt.title(\"City Latitude vs.Humidity (04/01/20)\")\n",
    "plt.xlabel(\"Latitude\")\n",
    "plt.ylabel(\"Humidity (%)\")\n",
    "plt.grid (b=True,which=\"major\",axis=\"both\",linestyle=\"-\",color=\"lightgrey\")\n",
    "plt.savefig(\"Latitude vs. Humidity Plot.png\")\n",
    "plt.show()"
   ]
  },
  {
   "cell_type": "markdown",
   "metadata": {},
   "source": [
    "## Latitude vs. Cloudiness Plot"
   ]
  },
  {
   "cell_type": "code",
   "execution_count": 11,
   "metadata": {},
   "outputs": [
    {
     "data": {
      "image/png": "[encoded data removed]",
      "text/plain": [
       "<Figure size 432x288 with 1 Axes>"
      ]
     },
     "metadata": {
      "needs_background": "light"
     },
     "output_type": "display_data"
    }
   ],
   "source": [
    "plt.scatter(weather_df[\"Lat\"],weather_df[\"Cloudiness\"],edgecolors=\"black\",facecolors=\"lightblue\")\n",
    "plt.title(\"City Latitude vs.Humidity (04/01/20)\")\n",
    "plt.xlabel(\"Latitude\")\n",
    "plt.ylabel(\"Cloudiness (%)\")\n",
    "plt.grid (b=True,which=\"major\",axis=\"both\",linestyle=\"-\",color=\"lightgrey\")\n",
    "plt.savefig(\"Latitude vs. Cloudiness Plot.png\")\n",
    "plt.show()"
   ]
  },
  {
   "cell_type": "markdown",
   "metadata": {},
   "source": [
    "## Latitude vs. Wind Speed Plot"
   ]
  },
  {
   "cell_type": "code",
   "execution_count": 12,
   "metadata": {},
   "outputs": [
    {
     "data": {
      "image/png": "[encoded data removed]",
      "text/plain": [
       "<Figure size 432x288 with 1 Axes>"
      ]
     },
     "metadata": {
      "needs_background": "light"
     },
     "output_type": "display_data"
    }
   ],
   "source": [
    "plt.scatter(weather_df[\"Lat\"],weather_df[\"Wind Speed\"],edgecolors=\"black\",facecolors=\"lightblue\")\n",
    "plt.title(\"City Latitude vs. Wind Speed (04/01/20)\")\n",
    "plt.xlabel(\"Latitude\")\n",
    "plt.ylabel(\"Wind Speed (mph)\")\n",
    "plt.grid (b=True,which=\"major\",axis=\"both\",linestyle=\"-\",color=\"lightgrey\")\n",
    "plt.savefig(\"Latitude vs. Wind Speed Plot.png\")\n",
    "plt.show()"
   ]
  },
  {
   "cell_type": "markdown",
   "metadata": {},
   "source": [
    "## Linear Regression"
   ]
  },
  {
   "cell_type": "code",
   "execution_count": 13,
   "metadata": {},
   "outputs": [],
   "source": [
    "#defined northern vs southern hemishperes\n",
    "\n",
    "northern_hem_df = weather_df.loc[weather_df[\"Lat\"] > 0]\n",
    "southern_hem_df = weather_df.loc[weather_df[\"Lat\"] < 0]"
   ]
  },
  {
   "cell_type": "code",
   "execution_count": 14,
   "metadata": {},
   "outputs": [
    {
     "data": {
      "text/html": [
       "<div>\n",
       "<style scoped>\n",
       "    .dataframe tbody tr th:only-of-type {\n",
       "        vertical-align: middle;\n",
       "    }\n",
       "\n",
       "    .dataframe tbody tr th {\n",
       "        vertical-align: top;\n",
       "    }\n",
       "\n",
       "    .dataframe thead th {\n",
       "        text-align: right;\n",
       "    }\n",
       "</style>\n",
       "<table border=\"1\" class=\"dataframe\">\n",
       "  <thead>\n",
       "    <tr style=\"text-align: right;\">\n",
       "      <th></th>\n",
       "      <th>City</th>\n",
       "      <th>Lat</th>\n",
       "      <th>Lng</th>\n",
       "      <th>Max Temp</th>\n",
       "      <th>Humidity</th>\n",
       "      <th>Cloudiness</th>\n",
       "      <th>Wind Speed</th>\n",
       "      <th>Country</th>\n",
       "      <th>Date</th>\n",
       "    </tr>\n",
       "  </thead>\n",
       "  <tbody>\n",
       "    <tr>\n",
       "      <th>0</th>\n",
       "      <td>Albany</td>\n",
       "      <td>42.6001</td>\n",
       "      <td>-73.9662</td>\n",
       "      <td>52.30</td>\n",
       "      <td>85</td>\n",
       "      <td>94</td>\n",
       "      <td>2.06</td>\n",
       "      <td>US</td>\n",
       "      <td>1636520095</td>\n",
       "    </tr>\n",
       "    <tr>\n",
       "      <th>2</th>\n",
       "      <td>Nanortalik</td>\n",
       "      <td>60.1432</td>\n",
       "      <td>-45.2371</td>\n",
       "      <td>17.65</td>\n",
       "      <td>69</td>\n",
       "      <td>1</td>\n",
       "      <td>9.82</td>\n",
       "      <td>GL</td>\n",
       "      <td>1636520162</td>\n",
       "    </tr>\n",
       "    <tr>\n",
       "      <th>3</th>\n",
       "      <td>Söderhamn</td>\n",
       "      <td>61.3037</td>\n",
       "      <td>17.0592</td>\n",
       "      <td>41.36</td>\n",
       "      <td>91</td>\n",
       "      <td>23</td>\n",
       "      <td>8.16</td>\n",
       "      <td>SE</td>\n",
       "      <td>1636520163</td>\n",
       "    </tr>\n",
       "    <tr>\n",
       "      <th>4</th>\n",
       "      <td>Kailua</td>\n",
       "      <td>21.4022</td>\n",
       "      <td>-157.7394</td>\n",
       "      <td>78.78</td>\n",
       "      <td>69</td>\n",
       "      <td>90</td>\n",
       "      <td>4.61</td>\n",
       "      <td>US</td>\n",
       "      <td>1636520164</td>\n",
       "    </tr>\n",
       "    <tr>\n",
       "      <th>5</th>\n",
       "      <td>Tanout</td>\n",
       "      <td>14.9709</td>\n",
       "      <td>8.8879</td>\n",
       "      <td>78.08</td>\n",
       "      <td>16</td>\n",
       "      <td>18</td>\n",
       "      <td>9.42</td>\n",
       "      <td>NE</td>\n",
       "      <td>1636520164</td>\n",
       "    </tr>\n",
       "  </tbody>\n",
       "</table>\n",
       "</div>"
      ],
      "text/plain": [
       "         City      Lat       Lng  Max Temp  Humidity  Cloudiness  Wind Speed  \\\n",
       "0      Albany  42.6001  -73.9662     52.30        85          94        2.06   \n",
       "2  Nanortalik  60.1432  -45.2371     17.65        69           1        9.82   \n",
       "3   Söderhamn  61.3037   17.0592     41.36        91          23        8.16   \n",
       "4      Kailua  21.4022 -157.7394     78.78        69          90        4.61   \n",
       "5      Tanout  14.9709    8.8879     78.08        16          18        9.42   \n",
       "\n",
       "  Country        Date  \n",
       "0      US  1636520095  \n",
       "2      GL  1636520162  \n",
       "3      SE  1636520163  \n",
       "4      US  1636520164  \n",
       "5      NE  1636520164  "
      ]
     },
     "execution_count": 14,
     "metadata": {},
     "output_type": "execute_result"
    }
   ],
   "source": [
    "#used to check output\n",
    "northern_hem_df.head()"
   ]
  },
  {
   "cell_type": "code",
   "execution_count": 15,
   "metadata": {},
   "outputs": [
    {
     "data": {
      "text/html": [
       "<div>\n",
       "<style scoped>\n",
       "    .dataframe tbody tr th:only-of-type {\n",
       "        vertical-align: middle;\n",
       "    }\n",
       "\n",
       "    .dataframe tbody tr th {\n",
       "        vertical-align: top;\n",
       "    }\n",
       "\n",
       "    .dataframe thead th {\n",
       "        text-align: right;\n",
       "    }\n",
       "</style>\n",
       "<table border=\"1\" class=\"dataframe\">\n",
       "  <thead>\n",
       "    <tr style=\"text-align: right;\">\n",
       "      <th></th>\n",
       "      <th>City</th>\n",
       "      <th>Lat</th>\n",
       "      <th>Lng</th>\n",
       "      <th>Max Temp</th>\n",
       "      <th>Humidity</th>\n",
       "      <th>Cloudiness</th>\n",
       "      <th>Wind Speed</th>\n",
       "      <th>Country</th>\n",
       "      <th>Date</th>\n",
       "    </tr>\n",
       "  </thead>\n",
       "  <tbody>\n",
       "    <tr>\n",
       "      <th>1</th>\n",
       "      <td>Ilebo</td>\n",
       "      <td>-4.3167</td>\n",
       "      <td>20.5833</td>\n",
       "      <td>71.67</td>\n",
       "      <td>97</td>\n",
       "      <td>98</td>\n",
       "      <td>0.96</td>\n",
       "      <td>CD</td>\n",
       "      <td>1636520162</td>\n",
       "    </tr>\n",
       "    <tr>\n",
       "      <th>6</th>\n",
       "      <td>Lebu</td>\n",
       "      <td>-37.6167</td>\n",
       "      <td>-73.6500</td>\n",
       "      <td>48.96</td>\n",
       "      <td>90</td>\n",
       "      <td>10</td>\n",
       "      <td>5.77</td>\n",
       "      <td>CL</td>\n",
       "      <td>1636520165</td>\n",
       "    </tr>\n",
       "    <tr>\n",
       "      <th>7</th>\n",
       "      <td>Karratha</td>\n",
       "      <td>-20.7377</td>\n",
       "      <td>116.8463</td>\n",
       "      <td>89.13</td>\n",
       "      <td>20</td>\n",
       "      <td>0</td>\n",
       "      <td>12.48</td>\n",
       "      <td>AU</td>\n",
       "      <td>1636520165</td>\n",
       "    </tr>\n",
       "    <tr>\n",
       "      <th>9</th>\n",
       "      <td>Ushuaia</td>\n",
       "      <td>-54.8000</td>\n",
       "      <td>-68.3000</td>\n",
       "      <td>49.66</td>\n",
       "      <td>66</td>\n",
       "      <td>0</td>\n",
       "      <td>10.36</td>\n",
       "      <td>AR</td>\n",
       "      <td>1636519910</td>\n",
       "    </tr>\n",
       "    <tr>\n",
       "      <th>10</th>\n",
       "      <td>Rikitea</td>\n",
       "      <td>-23.1203</td>\n",
       "      <td>-134.9692</td>\n",
       "      <td>75.69</td>\n",
       "      <td>78</td>\n",
       "      <td>100</td>\n",
       "      <td>16.22</td>\n",
       "      <td>PF</td>\n",
       "      <td>1636520167</td>\n",
       "    </tr>\n",
       "  </tbody>\n",
       "</table>\n",
       "</div>"
      ],
      "text/plain": [
       "        City      Lat       Lng  Max Temp  Humidity  Cloudiness  Wind Speed  \\\n",
       "1      Ilebo  -4.3167   20.5833     71.67        97          98        0.96   \n",
       "6       Lebu -37.6167  -73.6500     48.96        90          10        5.77   \n",
       "7   Karratha -20.7377  116.8463     89.13        20           0       12.48   \n",
       "9    Ushuaia -54.8000  -68.3000     49.66        66           0       10.36   \n",
       "10   Rikitea -23.1203 -134.9692     75.69        78         100       16.22   \n",
       "\n",
       "   Country        Date  \n",
       "1       CD  1636520162  \n",
       "6       CL  1636520165  \n",
       "7       AU  1636520165  \n",
       "9       AR  1636519910  \n",
       "10      PF  1636520167  "
      ]
     },
     "execution_count": 15,
     "metadata": {},
     "output_type": "execute_result"
    }
   ],
   "source": [
    "#used to check output\n",
    "southern_hem_df.head()"
   ]
  },
  {
   "cell_type": "markdown",
   "metadata": {},
   "source": [
    "####  Northern Hemisphere - Max Temp vs. Latitude Linear Regression"
   ]
  },
  {
   "cell_type": "code",
   "execution_count": 16,
   "metadata": {},
   "outputs": [
    {
     "name": "stdout",
     "output_type": "stream",
     "text": [
      "R-Squared Value is 0.9\n"
     ]
    },
    {
     "data": {
      "image/png": "[encoded data removed]",
      "text/plain": [
       "<Figure size 432x288 with 1 Axes>"
      ]
     },
     "metadata": {
      "needs_background": "light"
     },
     "output_type": "display_data"
    }
   ],
   "source": [
    "slope, y_int, r_value, p_value, std_err = linregress(northern_hem_df[\"Lat\"], northern_hem_df[\"Max Temp\"])\n",
    "\n",
    "north_temp_lat = slope * northern_hem_df[\"Lat\"] + y_int\n",
    "\n",
    "#Regression and r square\n",
    "\n",
    "north_temp_lat_eq = \"y= \" + str(round(slope,2)) + \"x + \" + str(round(y_int,2))\n",
    "\n",
    "r_square = \"R-Squared Value is \" + str(abs(round(r_value,2)))\n",
    "print(r_square)\n",
    "\n",
    "#scatter plot\n",
    "\n",
    "plt.scatter(northern_hem_df[\"Lat\"], northern_hem_df[\"Max Temp\"], facecolor = \"blue\")\n",
    "plt.plot(northern_hem_df[\"Lat\"], north_temp_lat, color = \"red\", linewidth = 3)\n",
    "plt.annotate(north_temp_lat_eq, (-8, 40), color = \"red\", fontsize = 10)\n",
    "plt.title(\"City Latitude vs. Max Temperature (Northern Hemisphere)\")\n",
    "plt.xlabel(\"Latitude\")\n",
    "plt.ylabel(\"Max Temperature (F)\")\n",
    "plt.xlim(-10,90)\n",
    "plt.savefig(\"Northern Hemisphere Latitude vs. Temperature.png\")\n",
    "plt.show()"
   ]
  },
  {
   "cell_type": "markdown",
   "metadata": {},
   "source": [
    "####  Southern Hemisphere - Max Temp vs. Latitude Linear Regression"
   ]
  },
  {
   "cell_type": "code",
   "execution_count": 17,
   "metadata": {},
   "outputs": [
    {
     "name": "stdout",
     "output_type": "stream",
     "text": [
      "R-Squared Value is 0.68\n"
     ]
    },
    {
     "data": {
      "image/png": "[encoded data removed]",
      "text/plain": [
       "<Figure size 432x288 with 1 Axes>"
      ]
     },
     "metadata": {
      "needs_background": "light"
     },
     "output_type": "display_data"
    }
   ],
   "source": [
    "slope, y_int, r_value, p_value, std_err = linregress(southern_hem_df[\"Lat\"], southern_hem_df[\"Max Temp\"])\n",
    "\n",
    "south_temp_lat = slope * southern_hem_df[\"Lat\"] + y_int\n",
    "\n",
    "#Regression and r square\n",
    "\n",
    "south_temp_lat_eq = \"y= \" + str(round(slope,2)) + \"x + \" + str(round(y_int,2))\n",
    "\n",
    "r_square = \"R-Squared Value is \" + str(abs(round(r_value,2)))\n",
    "print(r_square)\n",
    "\n",
    "#scatter plot\n",
    "\n",
    "plt.scatter(southern_hem_df[\"Lat\"], southern_hem_df[\"Max Temp\"], facecolor = \"blue\")\n",
    "plt.plot(southern_hem_df[\"Lat\"], south_temp_lat, color = \"red\", linewidth = 3)\n",
    "plt.annotate(south_temp_lat_eq, (-50, 80), color = \"red\", fontsize = 10)\n",
    "plt.title(\"City Latitude vs. Max Temperature (Southern Hemisphere)\")\n",
    "plt.xlabel(\"Latitude\")\n",
    "plt.ylabel(\"Max Temperature (F)\")\n",
    "plt.xlim(-60,15)\n",
    "plt.savefig(\"Southern Hemisphere Latitude vs. Temperature.png\")\n",
    "plt.show()"
   ]
  },
  {
   "cell_type": "markdown",
   "metadata": {},
   "source": [
    "####  Northern Hemisphere - Humidity (%) vs. Latitude Linear Regression"
   ]
  },
  {
   "cell_type": "code",
   "execution_count": 18,
   "metadata": {},
   "outputs": [
    {
     "name": "stdout",
     "output_type": "stream",
     "text": [
      "R-Squared Value is 0.31\n"
     ]
    },
    {
     "data": {
      "image/png": "[encoded data removed]",
      "text/plain": [
       "<Figure size 432x288 with 1 Axes>"
      ]
     },
     "metadata": {
      "needs_background": "light"
     },
     "output_type": "display_data"
    }
   ],
   "source": [
    "slope, y_int, r_value, p_value, std_err = linregress(northern_hem_df[\"Lat\"], northern_hem_df[\"Humidity\"])\n",
    "\n",
    "north_temp_lat = slope * northern_hem_df[\"Lat\"] + y_int\n",
    "\n",
    "#Regression and r square\n",
    "\n",
    "north_temp_lat_eq = \"y= \" + str(round(slope,2)) + \"x + \" + str(round(y_int,2))\n",
    "\n",
    "r_square = \"R-Squared Value is \" + str(abs(round(r_value,2)))\n",
    "print(r_square)\n",
    "\n",
    "#scatter plot\n",
    "\n",
    "plt.scatter(northern_hem_df[\"Lat\"], northern_hem_df[\"Humidity\"], facecolor = \"blue\")\n",
    "plt.plot(northern_hem_df[\"Lat\"], north_temp_lat, color = \"red\", linewidth = 4)\n",
    "plt.annotate(north_temp_lat_eq, (60, 40), color = \"red\", fontsize = 10)\n",
    "plt.title(\"City Latitude vs. Humidity (Northern Hemisphere)\")\n",
    "plt.xlabel(\"Latitude\")\n",
    "plt.ylabel(\"Humidity (%)\")\n",
    "plt.xlim(-10,90)\n",
    "plt.savefig(\"Northern Hemisphere Latitude vs. Humidity.png\")\n",
    "plt.show()"
   ]
  },
  {
   "cell_type": "markdown",
   "metadata": {},
   "source": [
    "####  Southern Hemisphere - Humidity (%) vs. Latitude Linear Regression"
   ]
  },
  {
   "cell_type": "code",
   "execution_count": 19,
   "metadata": {},
   "outputs": [
    {
     "name": "stdout",
     "output_type": "stream",
     "text": [
      "R-Squared Value is 0.16\n"
     ]
    },
    {
     "data": {
      "image/png": "[encoded data removed]",
      "text/plain": [
       "<Figure size 432x288 with 1 Axes>"
      ]
     },
     "metadata": {
      "needs_background": "light"
     },
     "output_type": "display_data"
    }
   ],
   "source": [
    "slope, y_int, r_value, p_value, std_err = linregress(southern_hem_df[\"Lat\"], southern_hem_df[\"Humidity\"])\n",
    "\n",
    "south_temp_lat = slope * southern_hem_df[\"Lat\"] + y_int\n",
    "\n",
    "#Regression and r square\n",
    "\n",
    "south_temp_lat_eq = \"y= \" + str(round(slope,2)) + \"x + \" + str(round(y_int,2))\n",
    "\n",
    "r_square = \"R-Squared Value is \" + str(abs(round(r_value,2)))\n",
    "print(r_square)\n",
    "\n",
    "#scatter plot\n",
    "\n",
    "plt.scatter(southern_hem_df[\"Lat\"], southern_hem_df[\"Humidity\"], facecolor = \"blue\")\n",
    "plt.plot(southern_hem_df[\"Lat\"], south_temp_lat, color = \"red\", linewidth = 3)\n",
    "plt.annotate(south_temp_lat_eq, (-10, 40), color = \"red\", fontsize = 10)\n",
    "plt.title(\"City Latitude vs. Humidity (Southern Hemisphere)\")\n",
    "plt.xlabel(\"Latitude\")\n",
    "plt.ylabel(\"Humidity(%)\")\n",
    "plt.xlim(-60,15)\n",
    "plt.savefig(\"Southern Hemisphere Latitude vs. Humidity.png\")\n",
    "plt.show()"
   ]
  },
  {
   "cell_type": "markdown",
   "metadata": {},
   "source": [
    "####  Northern Hemisphere - Cloudiness (%) vs. Latitude Linear Regression"
   ]
  },
  {
   "cell_type": "code",
   "execution_count": 20,
   "metadata": {},
   "outputs": [
    {
     "name": "stdout",
     "output_type": "stream",
     "text": [
      "R-Squared Value is 0.08\n"
     ]
    },
    {
     "data": {
      "image/png": "[encoded data removed]",
      "text/plain": [
       "<Figure size 432x288 with 1 Axes>"
      ]
     },
     "metadata": {
      "needs_background": "light"
     },
     "output_type": "display_data"
    }
   ],
   "source": [
    "slope, y_int, r_value, p_value, std_err = linregress(northern_hem_df[\"Lat\"], northern_hem_df[\"Cloudiness\"])\n",
    "\n",
    "north_temp_lat = slope * northern_hem_df[\"Lat\"] + y_int\n",
    "\n",
    "#Regression and r square\n",
    "\n",
    "north_temp_lat_eq = \"y= \" + str(round(slope,2)) + \"x + \" + str(round(y_int,2))\n",
    "\n",
    "r_square = \"R-Squared Value is \" + str(abs(round(r_value,2)))\n",
    "print(r_square)\n",
    "\n",
    "#scatter plot\n",
    "\n",
    "plt.scatter(northern_hem_df[\"Lat\"], northern_hem_df[\"Cloudiness\"], facecolor = \"blue\")\n",
    "plt.plot(northern_hem_df[\"Lat\"], north_temp_lat, color = \"red\", linewidth = 3)\n",
    "plt.annotate(north_temp_lat_eq, (0.5, 60), color = \"red\", fontsize = 10)\n",
    "plt.title(\"City Latitude vs. Cloudiness\")\n",
    "plt.xlabel(\"Latitude\")\n",
    "plt.ylabel(\"Cloudiness (%)\")\n",
    "\n",
    "plt.savefig(\"Northern Hemisphere Latitude vs. Cloudiness.png\")\n",
    "plt.show()"
   ]
  },
  {
   "cell_type": "markdown",
   "metadata": {},
   "source": [
    "####  Southern Hemisphere - Cloudiness (%) vs. Latitude Linear Regression"
   ]
  },
  {
   "cell_type": "code",
   "execution_count": 21,
   "metadata": {},
   "outputs": [
    {
     "name": "stdout",
     "output_type": "stream",
     "text": [
      "R-Squared Value is 0.23\n"
     ]
    },
    {
     "data": {
      "image/png": "[encoded data removed]",
      "text/plain": [
       "<Figure size 432x288 with 1 Axes>"
      ]
     },
     "metadata": {
      "needs_background": "light"
     },
     "output_type": "display_data"
    }
   ],
   "source": [
    "slope, y_int, r_value, p_value, std_err = linregress(southern_hem_df[\"Lat\"], southern_hem_df[\"Cloudiness\"])\n",
    "\n",
    "south_temp_lat = slope * southern_hem_df[\"Lat\"] + y_int\n",
    "\n",
    "#Regression and r square\n",
    "\n",
    "south_temp_lat_eq = \"y= \" + str(round(slope,2)) + \"x + \" + str(round(y_int,2))\n",
    "\n",
    "r_square = \"R-Squared Value is \" + str(abs(round(r_value,2)))\n",
    "print(r_square)\n",
    "\n",
    "#scatter plot\n",
    "\n",
    "plt.scatter(southern_hem_df[\"Lat\"], southern_hem_df[\"Cloudiness\"], facecolor = \"blue\")\n",
    "plt.plot(southern_hem_df[\"Lat\"], south_temp_lat, color = \"red\", linewidth = 3)\n",
    "plt.annotate(south_temp_lat_eq, (-10, 40), color = \"red\", fontsize = 10)\n",
    "plt.title(\"City Latitude vs. Humidity (Southern Hemisphere)\")\n",
    "plt.xlabel(\"Latitude\")\n",
    "plt.ylabel(\"Cloudiness(%)\")\n",
    "plt.xlim(-60,15)\n",
    "plt.savefig(\"Southern Hemisphere Latitude vs. Cloudiness.png\")\n",
    "plt.show()"
   ]
  },
  {
   "cell_type": "markdown",
   "metadata": {},
   "source": [
    "####  Northern Hemisphere - Wind Speed (mph) vs. Latitude Linear Regression"
   ]
  },
  {
   "cell_type": "code",
   "execution_count": 22,
   "metadata": {},
   "outputs": [
    {
     "name": "stdout",
     "output_type": "stream",
     "text": [
      "R-Squared Value is 0.16\n"
     ]
    },
    {
     "data": {
      "image/png": "[encoded data removed]",
      "text/plain": [
       "<Figure size 432x288 with 1 Axes>"
      ]
     },
     "metadata": {
      "needs_background": "light"
     },
     "output_type": "display_data"
    }
   ],
   "source": [
    "slope, y_int, r_value, p_value, std_err = linregress(northern_hem_df[\"Lat\"], northern_hem_df[\"Wind Speed\"])\n",
    "\n",
    "north_temp_lat = slope * northern_hem_df[\"Lat\"] + y_int\n",
    "\n",
    "#Regression and r square\n",
    "\n",
    "north_temp_lat_eq = \"y= \" + str(round(slope,2)) + \"x + \" + str(round(y_int,2))\n",
    "\n",
    "r_square = \"R-Squared Value is \" + str(abs(round(r_value,2)))\n",
    "print(r_square)\n",
    "\n",
    "#scatter plot\n",
    "\n",
    "plt.scatter(northern_hem_df[\"Lat\"], northern_hem_df[\"Wind Speed\"], facecolor = \"blue\")\n",
    "plt.plot(northern_hem_df[\"Lat\"], north_temp_lat, color = \"red\", linewidth = 5)\n",
    "plt.annotate(north_temp_lat_eq, (-8, 40), color = \"red\", fontsize = 10)\n",
    "plt.title(\"City Latitude vs. Wind Speed\")\n",
    "plt.xlabel(\"Latitude\")\n",
    "plt.ylabel(\"Wind Speed (mph)\")\n",
    "plt.xlim(-10,90)\n",
    "plt.savefig(\"Northern Hemisphere Latitude vs. Wind Speed.png\")\n",
    "plt.show()"
   ]
  },
  {
   "cell_type": "markdown",
   "metadata": {},
   "source": [
    "####  Southern Hemisphere - Wind Speed (mph) vs. Latitude Linear Regression"
   ]
  },
  {
   "cell_type": "code",
   "execution_count": 23,
   "metadata": {},
   "outputs": [
    {
     "name": "stdout",
     "output_type": "stream",
     "text": [
      "R-Squared Value is 0.12\n"
     ]
    },
    {
     "data": {
      "image/png": "[encoded data removed]",
      "text/plain": [
       "<Figure size 432x288 with 1 Axes>"
      ]
     },
     "metadata": {
      "needs_background": "light"
     },
     "output_type": "display_data"
    }
   ],
   "source": [
    "slope, y_int, r_value, p_value, std_err = linregress(southern_hem_df[\"Lat\"], southern_hem_df[\"Wind Speed\"])\n",
    "\n",
    "south_temp_lat = slope * southern_hem_df[\"Lat\"] + y_int\n",
    "\n",
    "#Regression and r square\n",
    "\n",
    "south_temp_lat_eq = \"y= \" + str(round(slope,2)) + \"x + \" + str(round(y_int,2))\n",
    "\n",
    "r_square = \"R-Squared Value is \" + str(abs(round(r_value,2)))\n",
    "print(r_square)\n",
    "\n",
    "#scatter plot\n",
    "\n",
    "plt.scatter(southern_hem_df[\"Lat\"], southern_hem_df[\"Wind Speed\"], facecolor = \"blue\")\n",
    "plt.plot(southern_hem_df[\"Lat\"], south_temp_lat, color = \"red\", linewidth = 3)\n",
    "plt.annotate(south_temp_lat_eq, (-50, 20), color = \"red\", fontsize = 10)\n",
    "plt.title(\"City Latitude vs. Wind Speed (Southern Hemisphere)\")\n",
    "plt.xlabel(\"Latitude\")\n",
    "plt.ylabel(\"Wind Speed (mph)\")\n",
    "plt.xlim(-60,15)\n",
    "plt.savefig(\"Southern Hemisphere Latitude vs. Wind Speed.png\")\n",
    "plt.show()"
   ]
  },
  {
   "cell_type": "code",
   "execution_count": null,
   "metadata": {},
   "outputs": [],
   "source": []
  }
 ],
 "metadata": {
  "anaconda-cloud": {},
  "kernel_info": {
   "name": "python3"
  },
  "kernelspec": {
   "display_name": "Python [conda env:PythonData] *",
   "language": "python",
   "name": "conda-env-PythonData-py"
  },
  "language_info": {
   "codemirror_mode": {
    "name": "ipython",
    "version": 3
   },
   "file_extension": ".py",
   "mimetype": "text/x-python",
   "name": "python",
   "nbconvert_exporter": "python",
   "pygments_lexer": "ipython3",
   "version": "3.6.10"
  },
  "latex_envs": {
   "LaTeX_envs_menu_present": true,
   "autoclose": false,
   "autocomplete": true,
   "bibliofile": "biblio.bib",
   "cite_by": "apalike",
   "current_citInitial": 1,
   "eqLabelWithNumbers": true,
   "eqNumInitial": 1,
   "hotkeys": {
    "equation": "Ctrl-E",
    "itemize": "Ctrl-I"
   },
   "labels_anchors": false,
   "latex_user_defs": false,
   "report_style_numbering": false,
   "user_envs_cfg": false
  },
  "nteract": {
   "version": "0.12.3"
  }
 },
 "nbformat": 4,
 "nbformat_minor": 2
}
